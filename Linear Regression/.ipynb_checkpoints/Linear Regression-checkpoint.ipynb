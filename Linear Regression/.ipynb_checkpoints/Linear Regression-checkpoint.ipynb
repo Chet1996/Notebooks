{
 "cells": [
  {
   "cell_type": "markdown",
   "metadata": {},
   "source": [
    "### Linear Regression"
   ]
  },
  {
   "cell_type": "markdown",
   "metadata": {},
   "source": [
    "   线性回归考虑的是有$n$个样本$\\{\\mathbf{x}_1,\\mathbf{x}_2,\\cdots,\\mathbf{x}_n\\}$，每一个样本对应$m+1$维特征$\\mathbf{x}_i=\\{x_{i0},x_{i1},x_{i2},\\cdots,x_{im}\\}$（其中$x_{i0}=1$），记为$\\mathbf{X}_{n\\times (m+1)}$，且每一个样本都一个对应的标签，记为$\\mathbf{y}_{n}$。需要找到参数$\\mathbf{w}_{m+1}$，构造如下模型，\n",
    "\n",
    "$$\n",
    "h_{\\mathbf{w}}\\left(\\mathbf{X}\\right)=\\mathbf{X}\\mathbf{w}=\\begin{pmatrix}\n",
    "x_{10} & x_{11} & \\cdots & x_{1m} \\\\ \n",
    "x_{20} & \\ddots & \\cdots & \\vdots \\\\ \n",
    "\\vdots & \\cdots & \\ddots & \\vdots \\\\ \n",
    "x_{n0} & \\cdots & \\cdots & x_{nm)}\n",
    "\\end{pmatrix}\\begin{pmatrix}\n",
    "w_0\\\\ \n",
    "w_1\\\\ \n",
    "\\vdots\\\\ \n",
    "w_m\n",
    "\\end{pmatrix},\n",
    "$$\n",
    "\n",
    "拟合出来的结果与真实目标之间的误差可以表示如下，\n",
    "\n",
    "$$\n",
    "J(\\mathbf{w})=\\frac{1}{2}\\left(\\mathbf{X}\\mathbf{w}-\\mathbf{y}\\right)^T\\left(\\mathbf{X}\\mathbf{w}-\\mathbf{y}\\right),\n",
    "$$\n",
    "\n",
    "其中，加入常数因子$\\frac{1}{2}$是为了求导方便。"
   ]
  },
  {
   "cell_type": "markdown",
   "metadata": {},
   "source": [
    "#### 最小二乘法"
   ]
  },
  {
   "cell_type": "markdown",
   "metadata": {},
   "source": [
    "求解上述问题，等价于最小化$J(\\mathbf{w})$，即令如下等式成立，\n",
    "\n",
    "$$\n",
    "\\frac{\\partial J}{\\partial \\mathbf{w}}=\\mathbf{X}^T\\left(\\mathbf{X}\\mathbf{w}-\\mathbf{y} \\right )=0,\n",
    "$$\n",
    "\n",
    "可经过如下变换解得$\\mathbf{w}$，\n",
    "\n",
    "$$\\Leftrightarrow \\mathbf{X}^T\\mathbf{X}\\mathbf{w}-\\mathbf{X}^T\\mathbf{y}=0,\n",
    "\\Leftrightarrow \\mathbf{X}^T\\mathbf{X}\\mathbf{w}=\\mathbf{X}^T\\mathbf{y},\n",
    "\\Leftrightarrow \\mathbf{w}^{*}=\\left(\\mathbf{X}^T\\mathbf{X} \\right )^{-1}\\mathbf{X}^T\\mathbf{y},$$\n",
    "\n",
    "上述求解线性回归问题的方法即使最小二乘法（属于精确求解）。"
   ]
  },
  {
   "cell_type": "markdown",
   "metadata": {},
   "source": [
    "#### MLE"
   ]
  },
  {
   "cell_type": "markdown",
   "metadata": {},
   "source": [
    "建设数据分布符合高斯分布（正态分布），那么模型误差也将符合高斯分布（正态分布），对于第$i$个样本的预测误差，有如下概率形式，\n",
    "\n",
    "$$\n",
    "P(y_i|\\mathbf{x}_i,\\mathbf{w})=\\frac{1}{\\sqrt{2\\pi}\\sigma }e^{-\\frac{\\left( y_i-\\mathbf{x}_i\\mathbf{w}\\right)^2}{2\\sigma^2}},\n",
    "$$\n",
    "\n",
    "那么，对于所有样本的预测误差，可以表示如下，\n",
    "\n",
    "$$\n",
    "l(\\mathbf{w};\\mathbf{y})\\\\=log L(\\mathbf{w};\\mathbf{y})\\\\=log\\prod_{i=1}^{n}P(y_i|\\mathbf{x}_i,\\mathbf{w})\\\\=\\sum_{i=1}^nlogP(y_i|\\mathbf{x}_i,\\mathbf{w})\\\\=\\sum_{i=1}^nlog\\frac{1}{\\sqrt{2\\pi}\\sigma}e^{-\\frac{\\left(y_i-\\mathbf{x}_i \\mathbf{w}\\right )^2}{2\\sigma^2}} \\\\=nlog\\frac{1}{\\sqrt{2\\pi}\\sigma}-\\frac{1}{2\\sigma^2}\\sum_{i=1}^{n}\\left(y_i-\\mathbf{x}_i\\mathbf{w} \\right )^2,\n",
    "$$\n",
    "\n",
    "令$\\triangledown_{\\mathbf{w}}l(\\mathbf{w};\\mathbf{y})=0$，通过如下过程可解得$\\mathbf{w}$，\n",
    "\n",
    "$$\n",
    "\\triangledown_{\\mathbf{w}}l(\\mathbf{w};\\mathbf{y})=\\frac{1}{\\sigma^2}\\mathbf{X}^T(\\mathbf{y}-\\mathbf{X}\\mathbf{w})\\\\\n",
    "\\Leftrightarrow \\mathbf{w}^{*}=(\\mathbf{X}^T\\mathbf{X})^{-1}\\mathbf{X}^T\\mathbf{y},\n",
    "$$\n",
    "\n",
    " 上述结果表明，在高斯分布下的MLE和最小二乘法的求解结果是等价的（一个问题的多种角度）。"
   ]
  },
  {
   "cell_type": "markdown",
   "metadata": {},
   "source": [
    "#### 梯度下降法"
   ]
  },
  {
   "cell_type": "markdown",
   "metadata": {},
   "source": [
    "最小二乘法和MLE均为精确方法，但在实际求解过程中可能会有$\\mathbf{X}^T\\mathbf{X}$的逆不存在以及由于求解$\\left(\\mathbf{X}^T\\mathbf{X}\\right)^{-1}$时误差很大导致算法缺乏稳定性和可靠性等情况，因此精确方法不是万能的。梯度下降法是解决线性回归问题的常用的非精确方法（迭代法），其迭代公式如下，\n",
    "\n",
    "$$\n",
    "\\mathbf{w}=\\mathbf{w}-\\alpha \\triangledown J\\left( \\mathbf{w} \\right )=\\mathbf{w}-\\alpha\\mathbf{X}^T\\left( \\mathbf{X}\\mathbf{w}-\\mathbf{y}\\right ),\n",
    "$$\n",
    "\n",
    "经过若干次迭代之后，即可得到逼近于最优值的$\\mathbf{w}$。"
   ]
  },
  {
   "cell_type": "code",
   "execution_count": 1,
   "metadata": {},
   "outputs": [],
   "source": [
    "import numpy as np\n",
    "import matplotlib.pyplot as plt\n",
    "%matplotlib inline\n",
    "np.random.seed(1023)"
   ]
  },
  {
   "cell_type": "code",
   "execution_count": 2,
   "metadata": {},
   "outputs": [
    {
     "data": {
      "text/plain": [
       "((100, 1), (1,), (100,), (100,))"
      ]
     },
     "execution_count": 2,
     "metadata": {},
     "output_type": "execute_result"
    }
   ],
   "source": [
    "# 生成数据\n",
    "n, m = 100, 1\n",
    "X = np.random.uniform(0, 1, (n, m))\n",
    "w = np.random.uniform(0, 1, m)\n",
    "b = np.random.uniform(0, 0.1, n)\n",
    "y = X.dot(w) + b\n",
    "X.shape, w.shape, b.shape, y.shape"
   ]
  },
  {
   "cell_type": "code",
   "execution_count": 3,
   "metadata": {},
   "outputs": [],
   "source": [
    "class LinearRegression(object):\n",
    "    def __init__(self, mode='LSM'):\n",
    "        self.mode = mode # LSM（最小二乘法）| GD（梯度下降法）\n",
    "        self.pred_w = None\n",
    "    \n",
    "    def _MSELoss(self, pred_y, y, reduce=True):\n",
    "        # 计算L2损失\n",
    "        loss = ((pred_y - y)**2)**0.5\n",
    "        if reduce: # 是否取均值\n",
    "            return loss.mean()\n",
    "        else:\n",
    "            return loss\n",
    "        \n",
    "    def predict(self, X):\n",
    "        # 预测\n",
    "        return X.dot(self.pred_w)\n",
    "        \n",
    "    def fit(self, X, y, epoches=10, lr=0.001):\n",
    "        # 训练\n",
    "        self.pred_w = np.random.rand(X.shape[1]) # w采用随机初始化\n",
    "        if self.mode == 'LSM': # 最小二乘法\n",
    "            self.pred_w = np.linalg.inv(X.T.dot(X)).dot(X.T).dot(y)\n",
    "        elif self.mode == 'GD': # 梯度下降法\n",
    "            for epoch in range(epoches):\n",
    "                self.pred_w = self.pred_w - lr * X.T.dot(self.predict(X)-y)\n",
    "                print('Epo.: {} | Loss: {:.6f}'.format(epoch, self._MSELoss(self.predict(X), y)))\n",
    "        print('[{}] Loss: {:.6f}'.format(self.mode, self._MSELoss(self.predict(X), y))) # 输出最后的损失值"
   ]
  },
  {
   "cell_type": "code",
   "execution_count": 4,
   "metadata": {
    "scrolled": true
   },
   "outputs": [
    {
     "name": "stdout",
     "output_type": "stream",
     "text": [
      "[LSM] Loss: 0.032596\n"
     ]
    }
   ],
   "source": [
    "LSM_model = LinearRegression('LSM')\n",
    "LSM_model.fit(X, y)"
   ]
  },
  {
   "cell_type": "code",
   "execution_count": 5,
   "metadata": {
    "scrolled": true
   },
   "outputs": [
    {
     "name": "stdout",
     "output_type": "stream",
     "text": [
      "Epo.: 0 | Loss: 0.034201\n",
      "Epo.: 1 | Loss: 0.033288\n",
      "Epo.: 2 | Loss: 0.032911\n",
      "Epo.: 3 | Loss: 0.032751\n",
      "Epo.: 4 | Loss: 0.032665\n",
      "Epo.: 5 | Loss: 0.032629\n",
      "Epo.: 6 | Loss: 0.032611\n",
      "Epo.: 7 | Loss: 0.032600\n",
      "Epo.: 8 | Loss: 0.032599\n",
      "Epo.: 9 | Loss: 0.032598\n",
      "[GD] Loss: 0.032598\n"
     ]
    }
   ],
   "source": [
    "GD_model = LinearRegression('GD')\n",
    "GD_model.fit(X, y, epoches=10, lr=0.01)"
   ]
  },
  {
   "cell_type": "code",
   "execution_count": 6,
   "metadata": {},
   "outputs": [
    {
     "data": {
      "text/plain": [
       "Text(0.5, 1.0, 'GD')"
      ]
     },
     "execution_count": 6,
     "metadata": {},
     "output_type": "execute_result"
    },
    {
     "data": {
      "image/png": "[encoded data removed]",
      "text/plain": [
       "<Figure size 1440x360 with 2 Axes>"
      ]
     },
     "metadata": {
      "needs_background": "light"
     },
     "output_type": "display_data"
    }
   ],
   "source": [
    "# 可视化结果\n",
    "_, axarr = plt.subplots(1, 2, figsize=(20, 5))\n",
    "axarr[0].scatter(X, y, marker='x',color='red', s=40)\n",
    "axarr[0].plot(X, LSM_model.predict(X))\n",
    "axarr[0].set_title('LSM')\n",
    "axarr[1].scatter(X, y, marker='x',color='red', s=40)\n",
    "axarr[1].plot(X, GD_model.predict(X))\n",
    "axarr[1].set_title('GD')"
   ]
  },
  {
   "cell_type": "code",
   "execution_count": null,
   "metadata": {},
   "outputs": [],
   "source": []
  }
 ],
 "metadata": {
  "kernelspec": {
   "display_name": "Python 3",
   "language": "python",
   "name": "python3"
  },
  "language_info": {
   "codemirror_mode": {
    "name": "ipython",
    "version": 3
   },
   "file_extension": ".py",
   "mimetype": "text/x-python",
   "name": "python",
   "nbconvert_exporter": "python",
   "pygments_lexer": "ipython3",
   "version": "3.7.1"
  }
 },
 "nbformat": 4,
 "nbformat_minor": 2
}
